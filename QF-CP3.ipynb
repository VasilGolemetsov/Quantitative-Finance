{
 "cells": [
  {
   "cell_type": "markdown",
   "metadata": {},
   "source": [
    "# Quant challenge"
   ]
  },
  {
   "cell_type": "markdown",
   "metadata": {},
   "source": [
    "Make sure to download the latest __utilities.py__ from Brightspace."
   ]
  },
  {
   "cell_type": "code",
   "execution_count": null,
   "metadata": {},
   "outputs": [],
   "source": [
    "# Import Python packages\n",
    "import numpy as np  # Load Numpy package and call it 'np'\n",
    "import matplotlib.pyplot as plt # Load Pyplot as 'plt'\n",
    "import utilities as ut # Load the utility functions"
   ]
  },
  {
   "cell_type": "markdown",
   "metadata": {},
   "source": [
    "## Question 1: Martingale property\n",
    "Under martingale measure $Q$ every asset $V(t)$ normalized by bank account $B(t)$ is a martingale\n",
    "$$\n",
    "\\frac{V(0)}{B(0)} = E_0^Q\\left[\\frac{V(t)}{B(t)}\\right]\n",
    "$$"
   ]
  },
  {
   "cell_type": "markdown",
   "metadata": {},
   "source": [
    "> - Use Monte Carlo code for the Black-Scholes model below.\n",
    "> - Under martingale measure $Q$ every asset normalized by bank account is a martingale.\n",
    "> - Make a __plot__ that would show that stock price $S(t)$ divided by bank account $B(t)$ is a martingale, i.e. show that equation\n",
    "$$\n",
    "\\frac{S(0)}{B(0)} = E_0^Q\\left[\\frac{S(t)}{B(t)}\\right]\n",
    "$$\n",
    "holds for all $t$."
   ]
  },
  {
   "cell_type": "code",
   "execution_count": null,
   "metadata": {},
   "outputs": [],
   "source": [
    "S0 = 1.     # Stock price\n",
    "B0 = 1.     # Bank account\n",
    "r = 0.03    # Risk-free rate \n",
    "v = 0.2     # Volatility\n",
    "T = 1.      # Time to maturity\n",
    "npath = 10000\n",
    "nstep = 100\n",
    "dt = T/nstep\n",
    "tgrid = np.linspace(0, T, nstep+1)\n",
    "\n",
    "S = S0*np.ones((nstep+1,npath))\n",
    "ES = S0/B0 *np.ones(nstep+1)\n",
    "B = B0*np.exp(r*tgrid)\n",
    "\n",
    "for i in range(0,nstep):\n",
    "    ZH = np.random.normal(size=npath//2)\n",
    "    Z = np.r_[ZH,-ZH] \n",
    "    dS = r*S[i,:]*dt + v*np.sqrt(dt)*S[i,:]*Z\n",
    "    S[i+1,:] = S[i,:] + dS\n",
    "    ES[i+1] = np.mean(S[i+1,:] / B[i+1]) # Place for your computations\n",
    "\n",
    "plt.plot(tgrid,ES)\n",
    "plt.show() "
   ]
  },
  {
   "cell_type": "markdown",
   "metadata": {},
   "source": [
    "\n",
    "## Question 2: Martingale property\n",
    "> - Use Monte Carlo code for the Black-Scholes model below.<br>\n",
    "> - Under martingale measure $Q$ every asset normalized by bank account is a martingale. <br>\n",
    "> - Make a __plot__ that would show that European call option price $C(t)$ divided by bank account $B(t)$ is a martingale, i.e. show that equation\n",
    "$$\n",
    "\\frac{C(0)}{B(0)} = E_0^Q\\left[\\frac{C(t)}{B(t)}\\right]\n",
    "$$\n",
    "holds for all $t$.\n",
    "\n",
    "> - Use function __ut.bsVanilla(K,T,1,S0,r,c,v)__ to compute the call price."
   ]
  },
  {
   "cell_type": "code",
   "execution_count": null,
   "metadata": {},
   "outputs": [],
   "source": [
    "S0 = 1.     # Stock price\n",
    "B0 = 1.     # Bank account\n",
    "K = S0\n",
    "r = 0.03    # Risk-free rate \n",
    "c = 0.0    # Consumtion/dividend rate \n",
    "v = 0.2     # Volatility\n",
    "T = 1.      # Time to maturity\n",
    "npath = 10000\n",
    "nstep = 100\n",
    "dt = T/nstep\n",
    "tgrid = np.linspace(0, T, nstep+1)\n",
    "S = S0*np.ones((nstep+1,npath))\n",
    "ES = S0/B0 * np.ones(nstep+1)\n",
    "B = B0*np.exp(r*tgrid)\n",
    "C0 = ut.bsVanilla(K,T,1,S0,r,c,v)\n",
    "C = C0*np.ones((nstep+1,npath))\n",
    "EC = C0*np.ones(nstep+1)\n",
    "\n",
    "for i in range(0,nstep):\n",
    "    ZH = np.random.normal(size=npath//2)\n",
    "    Z = np.r_[ZH,-ZH] \n",
    "    dS = r*S[i,:]*dt + v*np.sqrt(dt)*S[i,:]*Z\n",
    "    S[i+1,:] = S[i,:] + dS\n",
    "    ES[i+1] = np.mean(S[i+1,:] / B[i+1]) # Place for your computations\n",
    "    tau = T-tgrid[i+1]\n",
    "    C[i+1,:] = ut.bsVanilla(K,tau,1,S[i+1,:],r,c,v)\n",
    "    EC[i+1] = np.mean(C[i+1,:] / B[i+1])\n",
    "\n",
    "\n",
    "plt.plot(tgrid,ES, label = 'E[S]/B')\n",
    "plt.plot(tgrid,EC / C0, label = 'E[C/C0]/B')\n",
    "plt.legend()\n",
    "plt.show() "
   ]
  },
  {
   "cell_type": "markdown",
   "metadata": {},
   "source": [
    "\n",
    "## Question 3: Digital (binary) options\n",
    "Digital call option pays 1 EUR, if stock price is\n",
    "above strike $K$ at maturity\n",
    "$$\n",
    "\\Phi(S(T)) = \\begin{cases}\n",
    "1, & \\text{if } S(T) \\geq K\\\\\n",
    "0, & \\text{if } S(T) < K\n",
    "\\end{cases}\n",
    "$$\n",
    "<!--- ![Digital (binary) option payoff](Digital.png) -->\n",
    "<img src=\"Digital.png\" alt=\"Digital (binary) option payoff\" width=\"400\"/>"
   ]
  },
  {
   "cell_type": "markdown",
   "metadata": {},
   "source": [
    "> - For Digital call option\n",
    "$$\n",
    "\\Phi(S(T)) = \\begin{cases}\n",
    "1, & \\text{if } S(T) \\geq K\\\\\n",
    "0, & \\text{if } S(T) < K\n",
    "\\end{cases}\n",
    "$$\n",
    "> - Use Black–Scholes model\n",
    "> - Compute the Monte Carlo price for strike $K = S0 = 1$\n",
    "> - Compare it to the analytical price using __ut.bsDigital(K,T,1,S0,r,c,v)__"
   ]
  },
  {
   "cell_type": "code",
   "execution_count": null,
   "metadata": {},
   "outputs": [],
   "source": [
    "S0 = 1.     # Stock price\n",
    "K = S0\n",
    "r = 0.03    # Risk-free rate \n",
    "c = 0.0    # Consumtion/dividend rate \n",
    "v = 0.2     # Volatility\n",
    "T = 1.      # Time to maturity\n",
    "npath = 10000\n",
    "nstep = 100\n",
    "dt = T/nstep\n",
    "S = S0*np.ones((nstep+1,npath))\n",
    "\n",
    "for i in range(0,nstep):\n",
    "    ZH = np.random.normal(size=npath//2)\n",
    "    Z = np.r_[ZH,-ZH] \n",
    "    dS = r*S[i,:]*dt + v*np.sqrt(dt)*S[i,:]*Z\n",
    "    S[i+1,:] = S[i,:] + dS\n",
    "\n",
    "ST = S[-1,:]\n",
    "\n",
    "D_BS_MC = np.exp(-r*T) * np.mean(ST > K)\n",
    "D_BS_AN = ut.bsDigital(K,T,1,S0,r,c,v)\n",
    "\n",
    "print(f'MC price: {D_BS_MC}')\n",
    "print(f'BS price: {D_BS_AN}')"
   ]
  },
  {
   "cell_type": "markdown",
   "metadata": {},
   "source": [
    "\n",
    "## Question 4: Pricing digital/binary option with smile\n",
    "> - Use SABR model\n",
    "> - Compute the Monte Carlo price for strike $K = S0 = 1$\n",
    "> - Compare it to the analytical price using __sabrVolatility__ to get the volatility at the specific strike and __bsDigital__ to price the option\n",
    "> - Use __sabrVolatility__ and __bsVanilla__ to compute the right analytical price for the digital option"
   ]
  },
  {
   "cell_type": "code",
   "execution_count": null,
   "metadata": {},
   "outputs": [],
   "source": [
    "S0 = 1.\n",
    "r = 0.03\n",
    "c = 0.0\n",
    "A0 = 0.2\n",
    "beta = 1\n",
    "rho = -0.7\n",
    "eta = 0.5\n",
    "T = 1.\n",
    "F0 = S0*np.exp((r-c)*T)\n",
    "npath = 10000\n",
    "nstep = 100\n",
    "dt = T/nstep\n",
    "CH = np.array([[1., rho], [rho, 1.]])\n",
    "L = np.linalg.cholesky(CH)\n",
    "F = F0*np.ones((nstep+1, npath))\n",
    "A = A0*np.ones((nstep+1, npath))\n",
    "K = S0\n",
    "for i in range(0,nstep):\n",
    "    ZH = np.random.normal(size=(2,npath//2))\n",
    "    ZA = np.c_[ZH,-ZH] # antithetic sampling\n",
    "    Z = L @ ZA\n",
    "    dF = A[i,:] * (F[i,:]**beta) * Z[0,:] * np.sqrt(dt)\n",
    "    F[i+1,:] = np.maximum(F[i,:] + dF,1e-3)\n",
    "    dA = A[i,:] * Z[1,:] * eta * np.sqrt(dt)\n",
    "    A[i+1,:] = np.maximum(A[i,:] + dA,0)\n",
    "     \n",
    "ST = F[-1,:]\n",
    "\n",
    "D_SABR_MC = np.exp(-r*T) * np.mean(ST > K)\n",
    "vapp = ut.sabrVolatility(S0,K,r,c,A0,beta,rho,eta,T)\n",
    "D_BS_AN = ut.bsDigital(K,T,1,S0,r,c,vapp)\n",
    "\n",
    "print(f'MC price: {D_SABR_MC}')\n",
    "print(f'BS price: {D_BS_AN}')\n",
    "\n",
    "dK = 0.001*K\n",
    "K2 = K+dK\n",
    "vapp2 = ut.sabrVolatility(S0,K2,r,c,A0,beta,rho,eta,T)\n",
    "D_BS_REP = (ut.bsVanilla(K,T,1,S0,r,c,vapp) - ut.bsVanilla(K2,T,1,S0,r,c,vapp2))/dK\n",
    "print(f'Replication by the call spread: {D_BS_REP}')"
   ]
  }
 ],
 "metadata": {
  "kernelspec": {
   "display_name": "Python 3 (ipykernel)",
   "language": "python",
   "name": "python3"
  },
  "language_info": {
   "codemirror_mode": {
    "name": "ipython",
    "version": 3
   },
   "file_extension": ".py",
   "mimetype": "text/x-python",
   "name": "python",
   "nbconvert_exporter": "python",
   "pygments_lexer": "ipython3",
   "version": "3.7.15"
  }
 },
 "nbformat": 4,
 "nbformat_minor": 2
}
